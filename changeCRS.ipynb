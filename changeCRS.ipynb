{
 "cells": [
  {
   "cell_type": "code",
   "execution_count": null,
   "id": "1c63dca2-b73c-44b1-9485-bd923d7577d8",
   "metadata": {},
   "outputs": [],
   "source": [
    "import geopandas as gpd\n",
    "from pyproj import CRS\n",
    "\n",
    "def convert_crs(input_file, output_file, target_crs):\n",
    "    gdf = gpd.read_file(input_file)\n",
    "    \n",
    "    gdf_converted = gdf.to_crs(CRS.from_user_input(target_crs))\n",
    "\n",
    "    gdf_converted.to_file(output_file)\n",
    "input_shp = './ThuanHoa/KhoanhDat/ThuanHoa_TKDD2022.shp' \n",
    "output_shp = 'duong_dan_toi_file_dau_ra.shp'  \n",
    "target_crs = 'EPSG:4326'  \n",
    "\n",
    "convert_crs(input_shp, output_shp, target_crs)\n"
   ]
  }
 ],
 "metadata": {
  "kernelspec": {
   "display_name": "Python 3 (ipykernel)",
   "language": "python",
   "name": "python3"
  },
  "language_info": {
   "codemirror_mode": {
    "name": "ipython",
    "version": 3
   },
   "file_extension": ".py",
   "mimetype": "text/x-python",
   "name": "python",
   "nbconvert_exporter": "python",
   "pygments_lexer": "ipython3",
   "version": "3.10.12"
  }
 },
 "nbformat": 4,
 "nbformat_minor": 5
}
